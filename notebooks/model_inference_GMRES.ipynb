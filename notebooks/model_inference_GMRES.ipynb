{
 "cells": [
  {
   "cell_type": "code",
   "execution_count": null,
   "id": "28508756-7800-4e74-afa9-d28807f52853",
   "metadata": {},
   "outputs": [],
   "source": [
    "import sys\n",
    "sys.path.append('../')\n",
    "from src.NN_random_solver import NN_random_solve\n",
    "from src.gmres import mygmrestorch\n",
    "from src.physics import residue_E, src2rhs\n",
    "from src.spins_solver import spins_solve\n",
    "from src.utils import *\n",
    "from src.plot_field3D import plot_3slices\n",
    "from src.simulator import simulate, get_results\n",
    "import matplotlib.pyplot as plt\n",
    "import yaml\n",
    "import time\n",
    "import gin\n",
    "\n",
    "original_sys_path = sys.path.copy()"
   ]
  },
  {
   "cell_type": "code",
   "execution_count": null,
   "id": "6a83fc8a-b090-4ac5-a25f-9fc41e916ee0",
   "metadata": {},
   "outputs": [],
   "source": [
    "###### (1) meta-atom model (PML in z only)\n",
    "# model_path = '/media/ps3/chenkaim/checkpoints/copied_models/meta_atom_CondConv-10_11_25T03_44_51'\n",
    "\n",
    "###### (2) aperiodic model (PML on all sides)\n",
    "model_path = '/media/ps3/chenkaim/checkpoints/copied_models/aperiodic_CondConv-10_11_25T06_03_52'"
   ]
  },
  {
   "cell_type": "code",
   "execution_count": null,
   "id": "9466191a-71ba-40af-a0f7-fe4593147acc",
   "metadata": {},
   "outputs": [],
   "source": [
    "# prepare the model\n",
    "sys.path = original_sys_path\n",
    "sys.path.append(model_path)\n",
    "for file in os.listdir(model_path):\n",
    "    if file.endswith(\".gin\"):\n",
    "        gin.parse_config_file(os.path.join(model_path, file))\n",
    "\n",
    "# use the dummy trainer and ds to reproduce the feature engineering for eps (this part should be rewritten to be cleaner)\n",
    "from waveynet3d.data.simulation_dataset import SyntheticDataset_same_wl_dL_shape as dataset_fn\n",
    "from waveynet3d.trainers.iterative_trainer import IterativeTrainer as trainer_fn\n",
    "dummy_trainer = trainer_fn(model_config=None, model_saving_path=None)\n",
    "dummy_ds = dataset_fn(dummy_trainer.domain_sizes, dummy_trainer.pml_ranges, residual_type=dummy_trainer.residual_type)\n",
    "dummy_ds.set_ln_R(dummy_trainer.ln_R)\n",
    "\n",
    "from waveynet3d.models import model_factory as model_fn\n",
    "model = prepare_model(dummy_trainer.domain_sizes, model_path, model_fn)\n",
    "\n",
    "ds_loader = torch.utils.data.DataLoader(\n",
    "    dataset=dummy_ds,\n",
    "    batch_size=1,\n",
    "    shuffle=False,\n",
    "    num_workers=0,\n",
    "    pin_memory=True,\n",
    "    collate_fn=dummy_ds.collate_fn_same_wl_dL\n",
    ")"
   ]
  },
  {
   "cell_type": "code",
   "execution_count": null,
   "id": "7cc8aa6f-cd39-4c2a-91f3-28338b6bc85b",
   "metadata": {},
   "outputs": [],
   "source": [
    "# prepare a random data from the dataloader\n",
    "ith_data = 1\n",
    "ds_iter = iter(ds_loader)\n",
    "for i in range(ith_data):\n",
    "    sample = next(ds_iter)\n",
    "eps, src, dL, wl, pmls = sample['eps'].cuda(), sample['source'].cuda(), sample['dL'], sample['wl'], sample['pmls']\n",
    "print('shape: ', eps.shape, 'wl: ', wl, 'dL: ', dL, 'pmls: ', pmls)"
   ]
  },
  {
   "cell_type": "markdown",
   "id": "1bce57da-5971-454d-9e1d-718cd6319083",
   "metadata": {},
   "source": [
    "# GMRES"
   ]
  },
  {
   "cell_type": "code",
   "execution_count": null,
   "id": "96fff410-de2c-421d-97aa-7d5234d47d67",
   "metadata": {},
   "outputs": [],
   "source": [
    "tol = 1e-4\n",
    "max_iter = 300\n",
    "restart = 25\n",
    "verbose= True\n",
    "\n",
    "Aop = lambda x: r2c(residue_E(c2r(x), eps[...,0], src, pmls, dL[0].numpy(), wl[0].numpy(), batched_compute=True, Aop=True))\n",
    "residual_fn = lambda x: r2c(residue_E(c2r(x), eps[...,0], src, pmls, dL[0].numpy(), wl[0].numpy(), batched_compute=True, Aop=False))\n",
    "\n",
    "gmres = mygmrestorch(model, Aop, tol=tol, max_iter=max_iter)"
   ]
  },
  {
   "cell_type": "code",
   "execution_count": null,
   "id": "fdb69dd4-cf16-4093-90f4-466d51b4053e",
   "metadata": {
    "scrolled": true
   },
   "outputs": [],
   "source": [
    "# solve the problem:\n",
    "complex_rhs = r2c(src2rhs(src, dL, wl))\n",
    "start_time = time.time()\n",
    "gmres.setup_eps(eps, dL/wl)\n",
    "if restart == 0:\n",
    "    x, history, _, _ = gmres.solve(complex_rhs, verbose)\n",
    "else:\n",
    "    x, history = gmres.solve_with_restart(complex_rhs, tol, max_iter, restart, verbose)\n",
    "end_time = time.time()\n",
    "final_residual = residual_fn(x)\n",
    "print(\"time take for NN solve: \", end_time-start_time)"
   ]
  },
  {
   "cell_type": "markdown",
   "id": "db78fb8d-b1d9-440b-b709-cdfc91ffc05b",
   "metadata": {},
   "source": [
    "# Spins verification"
   ]
  },
  {
   "cell_type": "code",
   "execution_count": null,
   "id": "583d9ad5-4141-4b7c-8b37-afeac6508d6c",
   "metadata": {},
   "outputs": [],
   "source": [
    "simulate(\n",
    "    float(wl[0].numpy()),\n",
    "    float(dL[0].numpy()),\n",
    "    eps[0,...,0].detach().cpu(),\n",
    "    src[0].detach().cpu(),\n",
    "    pmls\n",
    ")"
   ]
  },
  {
   "cell_type": "code",
   "execution_count": null,
   "id": "adcf81c1-e052-41a8-aff5-d54c9e4a4d51",
   "metadata": {},
   "outputs": [],
   "source": [
    "E_spins = get_results()\n",
    "spins_residual = residual_fn(r2c(E_spins[None].cuda()))"
   ]
  },
  {
   "cell_type": "code",
   "execution_count": null,
   "id": "72aa10dd-1fbd-4c18-aaca-a76f10e29175",
   "metadata": {},
   "outputs": [],
   "source": [
    "rel_diff, E_diff = scaled_MAE(c2r(x).cpu(), E_spins)\n",
    "print(\"relative error between E_spin and E_model\", rel_diff)"
   ]
  },
  {
   "cell_type": "markdown",
   "id": "db83f147-1678-4db0-ba7b-fa139469847d",
   "metadata": {},
   "source": [
    "# Visualization"
   ]
  },
  {
   "cell_type": "code",
   "execution_count": null,
   "id": "f85aaa63-ca6d-4808-b2fa-b83195dd3977",
   "metadata": {},
   "outputs": [],
   "source": [
    "fig1 = plot_3slices(eps[0,:,:,:,0].detach().cpu().numpy().real, fname=None, my_cmap=plt.cm.binary, cm_zero_center=False, title=\"eps\")\n",
    "fig2 = plot_3slices(x[0,:,:,:,0].detach().cpu().numpy().real, fname=None, my_cmap=plt.cm.seismic, title=\"NN_output\")\n",
    "fig3 = plot_3slices(final_residual[0,:,:,:,0].detach().cpu().numpy().real, fname=None, my_cmap=plt.cm.seismic, title=\"NN_residual\")"
   ]
  },
  {
   "cell_type": "code",
   "execution_count": null,
   "id": "aa355498-5d86-4de7-8265-0302114b1bc9",
   "metadata": {},
   "outputs": [],
   "source": [
    "diff = E_spins[:,:,:,0].detach().cpu().numpy().real - x[0,:,:,:,0].detach().cpu().numpy().real\n",
    "fig4 = plot_3slices(E_spins[:,:,:,0].detach().cpu().numpy().real, fname=None, my_cmap=plt.cm.seismic, title=\"spins_output\")\n",
    "fig5 = plot_3slices(spins_residual[0,:,:,:,0].detach().cpu().numpy().real, fname=None, my_cmap=plt.cm.seismic, title=\"spins_residual\")\n",
    "fig6 = plot_3slices(diff, fname=None, my_cmap=plt.cm.seismic, title=\"E_diff\")"
   ]
  },
  {
   "cell_type": "code",
   "execution_count": null,
   "id": "da928fb5-b3c5-4155-adf2-4125bae408a3",
   "metadata": {},
   "outputs": [],
   "source": [
    "print(\"final_residual: \\nNN: \", f\"{torch.mean(torch.abs(final_residual)).item():.3e}\", \"\\nspins: \", f\"{torch.mean(torch.abs(spins_residual)).item():.3e}\")"
   ]
  },
  {
   "cell_type": "code",
   "execution_count": null,
   "id": "b76432d6-cb96-4e7e-aada-c8428519f4bd",
   "metadata": {},
   "outputs": [],
   "source": []
  }
 ],
 "metadata": {
  "kernelspec": {
   "display_name": "Python 3 (ipykernel)",
   "language": "python",
   "name": "python3"
  },
  "language_info": {
   "codemirror_mode": {
    "name": "ipython",
    "version": 3
   },
   "file_extension": ".py",
   "mimetype": "text/x-python",
   "name": "python",
   "nbconvert_exporter": "python",
   "pygments_lexer": "ipython3",
   "version": "3.10.16"
  }
 },
 "nbformat": 4,
 "nbformat_minor": 5
}
